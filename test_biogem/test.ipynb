{
 "cells": [
  {
   "cell_type": "code",
   "execution_count": 1,
   "metadata": {},
   "outputs": [],
   "source": [
    "import matplotlib.pyplot as plt\n",
    "import numpy as np\n",
    "import os\n",
    "import re"
   ]
  },
  {
   "cell_type": "code",
   "execution_count": 16,
   "metadata": {},
   "outputs": [
    {
     "name": "stdout",
     "output_type": "stream",
     "text": [
      "Reading from /user/home/nd20983/CMIP7/test_biogem\n",
      "Reading file biogem_series_atm_temp.res\n",
      "opened successfully\n",
      "Variables are ['time (yr)', 'surface air temperature (degrees C)\\n']\n",
      "Units are ['yr', 'degrees C']\n",
      "Data overview: [array([ 0.5,  1.5,  2.5,  3.5,  4.5,  5.5,  6.5,  7.5,  8.5,  9.5, 10.5,\n",
      "       11.5, 12.5, 13.5, 14.5, 15.5, 16.5, 17.5, 18.5, 19.5, 21.5, 23.5,\n",
      "       25.5, 27.5, 29.5, 31.5, 33.5, 35.5, 37.5, 39.5, 41.5, 43.5, 45.5,\n",
      "       47.5, 49.5, 51.5, 53.5, 55.5, 57.5, 59.5, 61.5, 63.5, 65.5, 67.5,\n",
      "       69.5, 71.5, 73.5, 75.5, 77.5, 79.5, 81.5, 83.5, 85.5, 87.5, 89.5,\n",
      "       91.5, 93.5, 95.5, 97.5, 99.5]), array([12.241181, 12.24118 , 12.241179, 12.241179, 12.241178, 12.241178,\n",
      "       12.241178, 12.241178, 12.241178, 12.241178, 12.241178, 12.241179,\n",
      "       12.241179, 12.241179, 12.241179, 12.241179, 12.241179, 12.241179,\n",
      "       12.241179, 12.241179, 12.241179, 12.24118 , 12.24118 , 12.24118 ,\n",
      "       12.24118 , 12.24118 , 12.24118 , 12.24118 , 12.24118 , 12.24118 ,\n",
      "       12.241181, 12.241181, 12.241181, 12.241181, 12.241181, 12.241181,\n",
      "       12.241181, 12.241181, 12.241181, 12.241181, 12.241181, 12.241181,\n",
      "       12.241181, 12.241181, 12.241181, 12.241181, 12.241182, 12.241182,\n",
      "       12.241182, 12.241182, 12.241182, 12.241182, 12.241182, 12.241182,\n",
      "       12.241182, 12.241182, 12.241182, 12.241182, 12.241182, 12.241182])]\n"
     ]
    }
   ],
   "source": [
    "import preprocess as pp\n",
    "pp.read_file('biogem_series_atm_temp.res')"
   ]
  },
  {
   "cell_type": "code",
   "execution_count": null,
   "metadata": {},
   "outputs": [],
   "source": []
  }
 ],
 "metadata": {
  "kernelspec": {
   "display_name": "python-3.12.3",
   "language": "python",
   "name": "python3"
  },
  "language_info": {
   "codemirror_mode": {
    "name": "ipython",
    "version": 3
   },
   "file_extension": ".py",
   "mimetype": "text/x-python",
   "name": "python",
   "nbconvert_exporter": "python",
   "pygments_lexer": "ipython3",
   "version": "3.12.3"
  }
 },
 "nbformat": 4,
 "nbformat_minor": 2
}
